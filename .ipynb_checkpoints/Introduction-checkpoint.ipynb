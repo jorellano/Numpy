{
 "cells": [
  {
   "cell_type": "markdown",
   "metadata": {},
   "source": [
    "I am going to go through this SciPy Lecture.\n",
    "\n",
    "If you're interested in doing this yourself, you can find it at.\n",
    "\n",
    "http://www.scipy-lectures.org/intro/numpy/numpy.html\n",
    "\n",
    "Really appreciate all of the hard-work and effort put by authors\n",
    "\n",
    "authors: Emmanuelle Gouillart, Didrik Pinte, Gaël Varoquaux, and Pauli Virtanen\n"
   ]
  },
  {
   "cell_type": "code",
   "execution_count": 1,
   "metadata": {
    "collapsed": true
   },
   "outputs": [],
   "source": [
    "\n",
    "import numpy as np "
   ]
  },
  {
   "cell_type": "code",
   "execution_count": 2,
   "metadata": {
    "collapsed": true
   },
   "outputs": [],
   "source": [
    "a = np.array([0, 1, 2, 3])"
   ]
  },
  {
   "cell_type": "code",
   "execution_count": 3,
   "metadata": {
    "collapsed": false
   },
   "outputs": [
    {
     "data": {
      "text/plain": [
       "array([0, 1, 2, 3])"
      ]
     },
     "execution_count": 3,
     "metadata": {},
     "output_type": "execute_result"
    }
   ],
   "source": [
    "a # This will tell me what a equals"
   ]
  },
  {
   "cell_type": "markdown",
   "metadata": {},
   "source": [
    "I am getting how to use the Notebook a lot better :)\n",
    "\n",
    "Why is Numpy useful?\n",
    "\n",
    "Memory efficient and fast container for numerical operations\n",
    "\n",
    "1. An Array containing\n",
    "\n",
    "    . discretized time of an experiment/sumulation\n",
    "    \n",
    "    . signal recorded by a measuremnet device\n",
    "    \n",
    "    . ...."
   ]
  },
  {
   "cell_type": "code",
   "execution_count": 4,
   "metadata": {
    "collapsed": false
   },
   "outputs": [
    {
     "name": "stdout",
     "output_type": "stream",
     "text": [
      "1000 loops, best of 3: 746 µs per loop\n",
      "Wall time: 0 ns\n"
     ]
    },
    {
     "data": {
      "text/plain": [
       "array([     0,      1,      4,      9,     16,     25,     36,     49,\n",
       "           64,     81,    100,    121,    144,    169,    196,    225,\n",
       "          256,    289,    324,    361,    400,    441,    484,    529,\n",
       "          576,    625,    676,    729,    784,    841,    900,    961,\n",
       "         1024,   1089,   1156,   1225,   1296,   1369,   1444,   1521,\n",
       "         1600,   1681,   1764,   1849,   1936,   2025,   2116,   2209,\n",
       "         2304,   2401,   2500,   2601,   2704,   2809,   2916,   3025,\n",
       "         3136,   3249,   3364,   3481,   3600,   3721,   3844,   3969,\n",
       "         4096,   4225,   4356,   4489,   4624,   4761,   4900,   5041,\n",
       "         5184,   5329,   5476,   5625,   5776,   5929,   6084,   6241,\n",
       "         6400,   6561,   6724,   6889,   7056,   7225,   7396,   7569,\n",
       "         7744,   7921,   8100,   8281,   8464,   8649,   8836,   9025,\n",
       "         9216,   9409,   9604,   9801,  10000,  10201,  10404,  10609,\n",
       "        10816,  11025,  11236,  11449,  11664,  11881,  12100,  12321,\n",
       "        12544,  12769,  12996,  13225,  13456,  13689,  13924,  14161,\n",
       "        14400,  14641,  14884,  15129,  15376,  15625,  15876,  16129,\n",
       "        16384,  16641,  16900,  17161,  17424,  17689,  17956,  18225,\n",
       "        18496,  18769,  19044,  19321,  19600,  19881,  20164,  20449,\n",
       "        20736,  21025,  21316,  21609,  21904,  22201,  22500,  22801,\n",
       "        23104,  23409,  23716,  24025,  24336,  24649,  24964,  25281,\n",
       "        25600,  25921,  26244,  26569,  26896,  27225,  27556,  27889,\n",
       "        28224,  28561,  28900,  29241,  29584,  29929,  30276,  30625,\n",
       "        30976,  31329,  31684,  32041,  32400,  32761,  33124,  33489,\n",
       "        33856,  34225,  34596,  34969,  35344,  35721,  36100,  36481,\n",
       "        36864,  37249,  37636,  38025,  38416,  38809,  39204,  39601,\n",
       "        40000,  40401,  40804,  41209,  41616,  42025,  42436,  42849,\n",
       "        43264,  43681,  44100,  44521,  44944,  45369,  45796,  46225,\n",
       "        46656,  47089,  47524,  47961,  48400,  48841,  49284,  49729,\n",
       "        50176,  50625,  51076,  51529,  51984,  52441,  52900,  53361,\n",
       "        53824,  54289,  54756,  55225,  55696,  56169,  56644,  57121,\n",
       "        57600,  58081,  58564,  59049,  59536,  60025,  60516,  61009,\n",
       "        61504,  62001,  62500,  63001,  63504,  64009,  64516,  65025,\n",
       "        65536,  66049,  66564,  67081,  67600,  68121,  68644,  69169,\n",
       "        69696,  70225,  70756,  71289,  71824,  72361,  72900,  73441,\n",
       "        73984,  74529,  75076,  75625,  76176,  76729,  77284,  77841,\n",
       "        78400,  78961,  79524,  80089,  80656,  81225,  81796,  82369,\n",
       "        82944,  83521,  84100,  84681,  85264,  85849,  86436,  87025,\n",
       "        87616,  88209,  88804,  89401,  90000,  90601,  91204,  91809,\n",
       "        92416,  93025,  93636,  94249,  94864,  95481,  96100,  96721,\n",
       "        97344,  97969,  98596,  99225,  99856, 100489, 101124, 101761,\n",
       "       102400, 103041, 103684, 104329, 104976, 105625, 106276, 106929,\n",
       "       107584, 108241, 108900, 109561, 110224, 110889, 111556, 112225,\n",
       "       112896, 113569, 114244, 114921, 115600, 116281, 116964, 117649,\n",
       "       118336, 119025, 119716, 120409, 121104, 121801, 122500, 123201,\n",
       "       123904, 124609, 125316, 126025, 126736, 127449, 128164, 128881,\n",
       "       129600, 130321, 131044, 131769, 132496, 133225, 133956, 134689,\n",
       "       135424, 136161, 136900, 137641, 138384, 139129, 139876, 140625,\n",
       "       141376, 142129, 142884, 143641, 144400, 145161, 145924, 146689,\n",
       "       147456, 148225, 148996, 149769, 150544, 151321, 152100, 152881,\n",
       "       153664, 154449, 155236, 156025, 156816, 157609, 158404, 159201,\n",
       "       160000, 160801, 161604, 162409, 163216, 164025, 164836, 165649,\n",
       "       166464, 167281, 168100, 168921, 169744, 170569, 171396, 172225,\n",
       "       173056, 173889, 174724, 175561, 176400, 177241, 178084, 178929,\n",
       "       179776, 180625, 181476, 182329, 183184, 184041, 184900, 185761,\n",
       "       186624, 187489, 188356, 189225, 190096, 190969, 191844, 192721,\n",
       "       193600, 194481, 195364, 196249, 197136, 198025, 198916, 199809,\n",
       "       200704, 201601, 202500, 203401, 204304, 205209, 206116, 207025,\n",
       "       207936, 208849, 209764, 210681, 211600, 212521, 213444, 214369,\n",
       "       215296, 216225, 217156, 218089, 219024, 219961, 220900, 221841,\n",
       "       222784, 223729, 224676, 225625, 226576, 227529, 228484, 229441,\n",
       "       230400, 231361, 232324, 233289, 234256, 235225, 236196, 237169,\n",
       "       238144, 239121, 240100, 241081, 242064, 243049, 244036, 245025,\n",
       "       246016, 247009, 248004, 249001, 250000, 251001, 252004, 253009,\n",
       "       254016, 255025, 256036, 257049, 258064, 259081, 260100, 261121,\n",
       "       262144, 263169, 264196, 265225, 266256, 267289, 268324, 269361,\n",
       "       270400, 271441, 272484, 273529, 274576, 275625, 276676, 277729,\n",
       "       278784, 279841, 280900, 281961, 283024, 284089, 285156, 286225,\n",
       "       287296, 288369, 289444, 290521, 291600, 292681, 293764, 294849,\n",
       "       295936, 297025, 298116, 299209, 300304, 301401, 302500, 303601,\n",
       "       304704, 305809, 306916, 308025, 309136, 310249, 311364, 312481,\n",
       "       313600, 314721, 315844, 316969, 318096, 319225, 320356, 321489,\n",
       "       322624, 323761, 324900, 326041, 327184, 328329, 329476, 330625,\n",
       "       331776, 332929, 334084, 335241, 336400, 337561, 338724, 339889,\n",
       "       341056, 342225, 343396, 344569, 345744, 346921, 348100, 349281,\n",
       "       350464, 351649, 352836, 354025, 355216, 356409, 357604, 358801,\n",
       "       360000, 361201, 362404, 363609, 364816, 366025, 367236, 368449,\n",
       "       369664, 370881, 372100, 373321, 374544, 375769, 376996, 378225,\n",
       "       379456, 380689, 381924, 383161, 384400, 385641, 386884, 388129,\n",
       "       389376, 390625, 391876, 393129, 394384, 395641, 396900, 398161,\n",
       "       399424, 400689, 401956, 403225, 404496, 405769, 407044, 408321,\n",
       "       409600, 410881, 412164, 413449, 414736, 416025, 417316, 418609,\n",
       "       419904, 421201, 422500, 423801, 425104, 426409, 427716, 429025,\n",
       "       430336, 431649, 432964, 434281, 435600, 436921, 438244, 439569,\n",
       "       440896, 442225, 443556, 444889, 446224, 447561, 448900, 450241,\n",
       "       451584, 452929, 454276, 455625, 456976, 458329, 459684, 461041,\n",
       "       462400, 463761, 465124, 466489, 467856, 469225, 470596, 471969,\n",
       "       473344, 474721, 476100, 477481, 478864, 480249, 481636, 483025,\n",
       "       484416, 485809, 487204, 488601, 490000, 491401, 492804, 494209,\n",
       "       495616, 497025, 498436, 499849, 501264, 502681, 504100, 505521,\n",
       "       506944, 508369, 509796, 511225, 512656, 514089, 515524, 516961,\n",
       "       518400, 519841, 521284, 522729, 524176, 525625, 527076, 528529,\n",
       "       529984, 531441, 532900, 534361, 535824, 537289, 538756, 540225,\n",
       "       541696, 543169, 544644, 546121, 547600, 549081, 550564, 552049,\n",
       "       553536, 555025, 556516, 558009, 559504, 561001, 562500, 564001,\n",
       "       565504, 567009, 568516, 570025, 571536, 573049, 574564, 576081,\n",
       "       577600, 579121, 580644, 582169, 583696, 585225, 586756, 588289,\n",
       "       589824, 591361, 592900, 594441, 595984, 597529, 599076, 600625,\n",
       "       602176, 603729, 605284, 606841, 608400, 609961, 611524, 613089,\n",
       "       614656, 616225, 617796, 619369, 620944, 622521, 624100, 625681,\n",
       "       627264, 628849, 630436, 632025, 633616, 635209, 636804, 638401,\n",
       "       640000, 641601, 643204, 644809, 646416, 648025, 649636, 651249,\n",
       "       652864, 654481, 656100, 657721, 659344, 660969, 662596, 664225,\n",
       "       665856, 667489, 669124, 670761, 672400, 674041, 675684, 677329,\n",
       "       678976, 680625, 682276, 683929, 685584, 687241, 688900, 690561,\n",
       "       692224, 693889, 695556, 697225, 698896, 700569, 702244, 703921,\n",
       "       705600, 707281, 708964, 710649, 712336, 714025, 715716, 717409,\n",
       "       719104, 720801, 722500, 724201, 725904, 727609, 729316, 731025,\n",
       "       732736, 734449, 736164, 737881, 739600, 741321, 743044, 744769,\n",
       "       746496, 748225, 749956, 751689, 753424, 755161, 756900, 758641,\n",
       "       760384, 762129, 763876, 765625, 767376, 769129, 770884, 772641,\n",
       "       774400, 776161, 777924, 779689, 781456, 783225, 784996, 786769,\n",
       "       788544, 790321, 792100, 793881, 795664, 797449, 799236, 801025,\n",
       "       802816, 804609, 806404, 808201, 810000, 811801, 813604, 815409,\n",
       "       817216, 819025, 820836, 822649, 824464, 826281, 828100, 829921,\n",
       "       831744, 833569, 835396, 837225, 839056, 840889, 842724, 844561,\n",
       "       846400, 848241, 850084, 851929, 853776, 855625, 857476, 859329,\n",
       "       861184, 863041, 864900, 866761, 868624, 870489, 872356, 874225,\n",
       "       876096, 877969, 879844, 881721, 883600, 885481, 887364, 889249,\n",
       "       891136, 893025, 894916, 896809, 898704, 900601, 902500, 904401,\n",
       "       906304, 908209, 910116, 912025, 913936, 915849, 917764, 919681,\n",
       "       921600, 923521, 925444, 927369, 929296, 931225, 933156, 935089,\n",
       "       937024, 938961, 940900, 942841, 944784, 946729, 948676, 950625,\n",
       "       952576, 954529, 956484, 958441, 960400, 962361, 964324, 966289,\n",
       "       968256, 970225, 972196, 974169, 976144, 978121, 980100, 982081,\n",
       "       984064, 986049, 988036, 990025, 992016, 994009, 996004, 998001])"
      ]
     },
     "execution_count": 4,
     "metadata": {},
     "output_type": "execute_result"
    }
   ],
   "source": [
    "l = range(1000)\n",
    "\n",
    "%timeit [i**2 for i in l]\n",
    "\n",
    "a = np.arange(1000)\n",
    "\n",
    "%time a**2"
   ]
  },
  {
   "cell_type": "markdown",
   "metadata": {},
   "source": [
    "# Referencing the Documentation"
   ]
  },
  {
   "cell_type": "code",
   "execution_count": 8,
   "metadata": {
    "collapsed": false
   },
   "outputs": [
    {
     "name": "stdout",
     "output_type": "stream",
     "text": [
      "Help on built-in function array in module numpy.core.multiarray:\n",
      "\n",
      "array(...)\n",
      "    array(object, dtype=None, copy=True, order=None, subok=False, ndmin=0)\n",
      "    \n",
      "    Create an array.\n",
      "    \n",
      "    Parameters\n",
      "    ----------\n",
      "    object : array_like\n",
      "        An array, any object exposing the array interface, an\n",
      "        object whose __array__ method returns an array, or any\n",
      "        (nested) sequence.\n",
      "    dtype : data-type, optional\n",
      "        The desired data-type for the array.  If not given, then\n",
      "        the type will be determined as the minimum type required\n",
      "        to hold the objects in the sequence.  This argument can only\n",
      "        be used to 'upcast' the array.  For downcasting, use the\n",
      "        .astype(t) method.\n",
      "    copy : bool, optional\n",
      "        If true (default), then the object is copied.  Otherwise, a copy\n",
      "        will only be made if __array__ returns a copy, if obj is a\n",
      "        nested sequence, or if a copy is needed to satisfy any of the other\n",
      "        requirements (`dtype`, `order`, etc.).\n",
      "    order : {'C', 'F', 'A'}, optional\n",
      "        Specify the order of the array.  If order is 'C', then the array\n",
      "        will be in C-contiguous order (last-index varies the fastest).\n",
      "        If order is 'F', then the returned array will be in\n",
      "        Fortran-contiguous order (first-index varies the fastest).\n",
      "        If order is 'A' (default), then the returned array may be\n",
      "        in any order (either C-, Fortran-contiguous, or even discontiguous),\n",
      "        unless a copy is required, in which case it will be C-contiguous.\n",
      "    subok : bool, optional\n",
      "        If True, then sub-classes will be passed-through, otherwise\n",
      "        the returned array will be forced to be a base-class array (default).\n",
      "    ndmin : int, optional\n",
      "        Specifies the minimum number of dimensions that the resulting\n",
      "        array should have.  Ones will be pre-pended to the shape as\n",
      "        needed to meet this requirement.\n",
      "    \n",
      "    Returns\n",
      "    -------\n",
      "    out : ndarray\n",
      "        An array object satisfying the specified requirements.\n",
      "    \n",
      "    See Also\n",
      "    --------\n",
      "    empty, empty_like, zeros, zeros_like, ones, ones_like, fill\n",
      "    \n",
      "    Examples\n",
      "    --------\n",
      "    >>> np.array([1, 2, 3])\n",
      "    array([1, 2, 3])\n",
      "    \n",
      "    Upcasting:\n",
      "    \n",
      "    >>> np.array([1, 2, 3.0])\n",
      "    array([ 1.,  2.,  3.])\n",
      "    \n",
      "    More than one dimension:\n",
      "    \n",
      "    >>> np.array([[1, 2], [3, 4]])\n",
      "    array([[1, 2],\n",
      "           [3, 4]])\n",
      "    \n",
      "    Minimum dimensions 2:\n",
      "    \n",
      "    >>> np.array([1, 2, 3], ndmin=2)\n",
      "    array([[1, 2, 3]])\n",
      "    \n",
      "    Type provided:\n",
      "    \n",
      "    >>> np.array([1, 2, 3], dtype=complex)\n",
      "    array([ 1.+0.j,  2.+0.j,  3.+0.j])\n",
      "    \n",
      "    Data-type consisting of more than one element:\n",
      "    \n",
      "    >>> x = np.array([(1,2),(3,4)],dtype=[('a','<i4'),('b','<i4')])\n",
      "    >>> x['a']\n",
      "    array([1, 3])\n",
      "    \n",
      "    Creating an array from sub-classes:\n",
      "    \n",
      "    >>> np.array(np.mat('1 2; 3 4'))\n",
      "    array([[1, 2],\n",
      "           [3, 4]])\n",
      "    \n",
      "    >>> np.array(np.mat('1 2; 3 4'), subok=True)\n",
      "    matrix([[1, 2],\n",
      "            [3, 4]])\n",
      "\n"
     ]
    }
   ],
   "source": [
    "help(np.array) # useful to read it from here as opposed from the website"
   ]
  },
  {
   "cell_type": "code",
   "execution_count": 10,
   "metadata": {
    "collapsed": false
   },
   "outputs": [
    {
     "name": "stdout",
     "output_type": "stream",
     "text": [
      "Search results for 'create array'\n",
      "---------------------------------\n",
      "numpy.array\n",
      "    Create an array.\n",
      "numpy.memmap\n",
      "    Create a memory-map to an array stored in a *binary* file on disk.\n",
      "numpy.diagflat\n",
      "    Create a two-dimensional array with the flattened input as a diagonal.\n",
      "numpy.fromiter\n",
      "    Create a new 1-dimensional array from an iterable object.\n",
      "numpy.partition\n",
      "    Return a partitioned copy of an array.\n",
      "numpy.ma.diagflat\n",
      "    Create a two-dimensional array with the flattened input as a diagonal.\n",
      "numpy.ctypeslib.as_array\n",
      "    Create a numpy array from a ctypes array or a ctypes POINTER.\n",
      "numpy.ma.make_mask\n",
      "    Create a boolean mask from an array.\n",
      "numpy.ctypeslib.as_ctypes\n",
      "    Create and return a ctypes object from a numpy array.  Actually\n",
      "numpy.ma.mrecords.fromarrays\n",
      "    Creates a mrecarray from a (flat) list of masked arrays.\n",
      "numpy.ma.mvoid.__new__\n",
      "    Create a new masked array from scratch.\n",
      "numpy.lib.format.open_memmap\n",
      "    Open a .npy file as a memory-mapped array.\n",
      "numpy.ma.MaskedArray.__new__\n",
      "    Create a new masked array from scratch.\n",
      "numpy.lib.arrayterator.Arrayterator\n",
      "    Buffered iterator for big arrays.\n",
      "numpy.ma.mrecords.fromtextfile\n",
      "    Creates a mrecarray from data stored in the file `filename`.\n",
      "numpy.asarray\n",
      "    Convert the input to an array.\n",
      "numpy.ndarray\n",
      "    ndarray(shape, dtype=float, buffer=None, offset=0,\n",
      "numpy.recarray\n",
      "    Construct an ndarray that allows field access using attributes.\n",
      "numpy.chararray\n",
      "    chararray(shape, itemsize=1, unicode=False, buffer=None, offset=0,\n",
      "numpy.pad\n",
      "    Pads an array.\n",
      "numpy.asanyarray\n",
      "    Convert the input to an ndarray, but pass ndarray subclasses through.\n",
      "numpy.copy\n",
      "    Return an array copy of the given object.\n",
      "numpy.diag\n",
      "    Extract a diagonal or construct a diagonal array.\n",
      "numpy.load\n",
      "    Load arrays or pickled objects from ``.npy``, ``.npz`` or pickled files.\n",
      "numpy.sort\n",
      "    Return a sorted copy of an array.\n",
      "numpy.array_equiv\n",
      "    Returns True if input arrays are shape consistent and all elements equal.\n",
      "numpy.dtype\n",
      "    Create a data type object.\n",
      "numpy.choose\n",
      "    Construct an array from an index array and a set of arrays to choose from.\n",
      "numpy.nditer\n",
      "    Efficient multi-dimensional iterator object to iterate over arrays.\n",
      "numpy.swapaxes\n",
      "    Interchange two axes of an array.\n",
      "numpy.ma.mrecords.MaskedRecords.__new__\n",
      "    Create a new masked array from scratch.\n",
      "numpy.full_like\n",
      "    Return a full array with the same shape and type as a given array.\n",
      "numpy.ones_like\n",
      "    Return an array of ones with the same shape and type as a given array.\n",
      "numpy.empty_like\n",
      "    Return a new array with the same shape and type as a given array.\n",
      "numpy.zeros_like\n",
      "    Return an array of zeros with the same shape and type as a given array.\n",
      "numpy.asarray_chkfinite\n",
      "    Convert the input to an array, checking for NaNs or Infs.\n",
      "numpy.diag_indices\n",
      "    Return the indices to access the main diagonal of an array.\n",
      "numpy.ma.choose\n",
      "    Use an index array to construct a new array from a set of choices.\n",
      "numpy.chararray.tolist\n",
      "    a.tolist()\n",
      "numpy.matlib.rand\n",
      "    Return a matrix of random values with given shape.\n",
      "numpy.savez_compressed\n",
      "    Save several arrays into a single file in compressed ``.npz`` format.\n",
      "numpy.ma.empty_like\n",
      "    Return a new array with the same shape and type as a given array.\n",
      "numpy.ma.make_mask_none\n",
      "    Return a boolean mask of the given shape, filled with False.\n",
      "numpy.ma.mrecords.fromrecords\n",
      "    Creates a MaskedRecords from a list of records.\n",
      "numpy.around\n",
      "    Evenly round to the given number of decimals.\n",
      "numpy.source\n",
      "    Print or write to a file the source code for a Numpy object.\n",
      "numpy.diagonal\n",
      "    Return specified diagonals.\n",
      "numpy.histogram2d\n",
      "    Compute the bi-dimensional histogram of two data samples.\n",
      "numpy.fft.ifft\n",
      "    Compute the one-dimensional inverse discrete Fourier Transform.\n",
      "numpy.fft.ifftn\n",
      "    Compute the N-dimensional inverse discrete Fourier Transform.\n",
      "numpy.busdaycalendar\n",
      "    A business day calendar object that efficiently stores information"
     ]
    }
   ],
   "source": [
    "np.lookfor('create array')"
   ]
  },
  {
   "cell_type": "code",
   "execution_count": 11,
   "metadata": {
    "collapsed": false
   },
   "outputs": [
    {
     "name": "stdout",
     "output_type": "stream",
     "text": [
      "Help on function lookfor in module numpy.lib.utils:\n",
      "\n",
      "lookfor(what, module=None, import_modules=True, regenerate=False, output=None)\n",
      "    Do a keyword search on docstrings.\n",
      "    \n",
      "    A list of of objects that matched the search is displayed,\n",
      "    sorted by relevance. All given keywords need to be found in the\n",
      "    docstring for it to be returned as a result, but the order does\n",
      "    not matter.\n",
      "    \n",
      "    Parameters\n",
      "    ----------\n",
      "    what : str\n",
      "        String containing words to look for.\n",
      "    module : str or list, optional\n",
      "        Name of module(s) whose docstrings to go through.\n",
      "    import_modules : bool, optional\n",
      "        Whether to import sub-modules in packages. Default is True.\n",
      "    regenerate : bool, optional\n",
      "        Whether to re-generate the docstring cache. Default is False.\n",
      "    output : file-like, optional\n",
      "        File-like object to write the output to. If omitted, use a pager.\n",
      "    \n",
      "    See Also\n",
      "    --------\n",
      "    source, info\n",
      "    \n",
      "    Notes\n",
      "    -----\n",
      "    Relevance is determined only roughly, by checking if the keywords occur\n",
      "    in the function name, at the start of a docstring, etc.\n",
      "    \n",
      "    Examples\n",
      "    --------\n",
      "    >>> np.lookfor('binary representation')\n",
      "    Search results for 'binary representation'\n",
      "    ------------------------------------------\n",
      "    numpy.binary_repr\n",
      "        Return the binary representation of the input number as a string.\n",
      "    numpy.core.setup_common.long_double_representation\n",
      "        Given a binary dump as given by GNU od -b, look for long double\n",
      "    numpy.base_repr\n",
      "        Return a string representation of a number in the given base system.\n",
      "    ...\n",
      "\n"
     ]
    }
   ],
   "source": [
    "help(np.lookfor)\n"
   ]
  },
  {
   "cell_type": "markdown",
   "metadata": {},
   "source": [
    "# Creating Arrays\n",
    "\n",
    "## 1-D:"
   ]
  },
  {
   "cell_type": "code",
   "execution_count": 13,
   "metadata": {
    "collapsed": false
   },
   "outputs": [
    {
     "name": "stdout",
     "output_type": "stream",
     "text": [
      "1\n",
      "(4,)\n"
     ]
    },
    {
     "data": {
      "text/plain": [
       "4"
      ]
     },
     "execution_count": 13,
     "metadata": {},
     "output_type": "execute_result"
    }
   ],
   "source": [
    "a = np.array([0, 1, 2, 3,])\n",
    "print (a.ndim)\n",
    "print(a.shape)\n",
    "len(a)"
   ]
  },
  {
   "cell_type": "markdown",
   "metadata": {},
   "source": [
    "# 2-D, 3-D, ...:"
   ]
  },
  {
   "cell_type": "code",
   "execution_count": 15,
   "metadata": {
    "collapsed": false
   },
   "outputs": [
    {
     "name": "stdout",
     "output_type": "stream",
     "text": [
      "2\n",
      "(2, 3)\n",
      "2\n"
     ]
    }
   ],
   "source": [
    "b = np.array([[0, 1, 2], [3, 4, 5]])\n",
    "\n",
    "print (b.ndim)\n",
    "print (b.shape)\n",
    "print (len(b))"
   ]
  },
  {
   "cell_type": "code",
   "execution_count": 16,
   "metadata": {
    "collapsed": false
   },
   "outputs": [
    {
     "name": "stdout",
     "output_type": "stream",
     "text": [
      "[[[1]\n",
      "  [2]]\n",
      "\n",
      " [[3]\n",
      "  [4]]]\n",
      "(2, 2, 1)\n"
     ]
    }
   ],
   "source": [
    "c = np.array([[[1], [2]], [[3], [4]]])\n",
    "print (c)\n",
    "print (c.shape)"
   ]
  },
  {
   "cell_type": "code",
   "execution_count": 17,
   "metadata": {
    "collapsed": true
   },
   "outputs": [],
   "source": [
    "a = (np.mat([[1, 1, 1, 1], [1, 1, 1, 1], [1, 1, 1, 2], [1, 6, 1, 1] ]))"
   ]
  },
  {
   "cell_type": "code",
   "execution_count": 18,
   "metadata": {
    "collapsed": false
   },
   "outputs": [
    {
     "data": {
      "text/plain": [
       "matrix([[1, 1, 1, 1],\n",
       "        [1, 1, 1, 1],\n",
       "        [1, 1, 1, 2],\n",
       "        [1, 6, 1, 1]])"
      ]
     },
     "execution_count": 18,
     "metadata": {},
     "output_type": "execute_result"
    }
   ],
   "source": [
    "a"
   ]
  },
  {
   "cell_type": "code",
   "execution_count": 19,
   "metadata": {
    "collapsed": true
   },
   "outputs": [],
   "source": [
    "z = (np.diag([2, 3, 4, 5, 6]))\n",
    "g =([0, 0, 0, 0, 0])"
   ]
  },
  {
   "cell_type": "code",
   "execution_count": 20,
   "metadata": {
    "collapsed": true
   },
   "outputs": [],
   "source": [
    "a = np.array([[1, 1], [2, 2], [3, 3]])"
   ]
  },
  {
   "cell_type": "code",
   "execution_count": 21,
   "metadata": {
    "collapsed": false
   },
   "outputs": [
    {
     "data": {
      "text/plain": [
       "array([1, 1, 2, 2, 3, 3, 6])"
      ]
     },
     "execution_count": 21,
     "metadata": {},
     "output_type": "execute_result"
    }
   ],
   "source": [
    "np.insert(a, 6, 6)"
   ]
  },
  {
   "cell_type": "code",
   "execution_count": 22,
   "metadata": {
    "collapsed": false
   },
   "outputs": [
    {
     "name": "stdout",
     "output_type": "stream",
     "text": [
      "Help on function append in module numpy.lib.function_base:\n",
      "\n",
      "append(arr, values, axis=None)\n",
      "    Append values to the end of an array.\n",
      "    \n",
      "    Parameters\n",
      "    ----------\n",
      "    arr : array_like\n",
      "        Values are appended to a copy of this array.\n",
      "    values : array_like\n",
      "        These values are appended to a copy of `arr`.  It must be of the\n",
      "        correct shape (the same shape as `arr`, excluding `axis`).  If\n",
      "        `axis` is not specified, `values` can be any shape and will be\n",
      "        flattened before use.\n",
      "    axis : int, optional\n",
      "        The axis along which `values` are appended.  If `axis` is not\n",
      "        given, both `arr` and `values` are flattened before use.\n",
      "    \n",
      "    Returns\n",
      "    -------\n",
      "    append : ndarray\n",
      "        A copy of `arr` with `values` appended to `axis`.  Note that\n",
      "        `append` does not occur in-place: a new array is allocated and\n",
      "        filled.  If `axis` is None, `out` is a flattened array.\n",
      "    \n",
      "    See Also\n",
      "    --------\n",
      "    insert : Insert elements into an array.\n",
      "    delete : Delete elements from an array.\n",
      "    \n",
      "    Examples\n",
      "    --------\n",
      "    >>> np.append([1, 2, 3], [[4, 5, 6], [7, 8, 9]])\n",
      "    array([1, 2, 3, 4, 5, 6, 7, 8, 9])\n",
      "    \n",
      "    When `axis` is specified, `values` must have the correct shape.\n",
      "    \n",
      "    >>> np.append([[1, 2, 3], [4, 5, 6]], [[7, 8, 9]], axis=0)\n",
      "    array([[1, 2, 3],\n",
      "           [4, 5, 6],\n",
      "           [7, 8, 9]])\n",
      "    >>> np.append([[1, 2, 3], [4, 5, 6]], [7, 8, 9], axis=0)\n",
      "    Traceback (most recent call last):\n",
      "    ...\n",
      "    ValueError: arrays must have same number of dimensions\n",
      "\n"
     ]
    }
   ],
   "source": [
    "help(np.append)"
   ]
  },
  {
   "cell_type": "code",
   "execution_count": 23,
   "metadata": {
    "collapsed": true
   },
   "outputs": [],
   "source": [
    "b = (np.mat([[0., 0]]))"
   ]
  },
  {
   "cell_type": "code",
   "execution_count": 24,
   "metadata": {
    "collapsed": true
   },
   "outputs": [],
   "source": [
    "b = (np.array([[0, 0, 0, 0, 0],\n",
    "            [2, 0, 0, 0, 0],\n",
    "            [0, 3, 0, 0, 0],\n",
    "            [0, 0, 4, 0, 0],\n",
    "            [0, 0, 0, 5, 0],\n",
    "            [0, 0, 0, 0, 6]]))"
   ]
  },
  {
   "cell_type": "code",
   "execution_count": 25,
   "metadata": {
    "collapsed": false
   },
   "outputs": [
    {
     "data": {
      "text/plain": [
       "array([[0, 0, 0, 0, 0],\n",
       "       [2, 0, 0, 0, 0],\n",
       "       [0, 3, 0, 0, 0],\n",
       "       [0, 0, 4, 0, 0],\n",
       "       [0, 0, 0, 5, 0],\n",
       "       [0, 0, 0, 0, 6]])"
      ]
     },
     "execution_count": 25,
     "metadata": {},
     "output_type": "execute_result"
    }
   ],
   "source": [
    "b"
   ]
  },
  {
   "cell_type": "code",
   "execution_count": 26,
   "metadata": {
    "collapsed": false
   },
   "outputs": [
    {
     "name": "stdout",
     "output_type": "stream",
     "text": [
      "Help on function tile in module numpy.lib.shape_base:\n",
      "\n",
      "tile(A, reps)\n",
      "    Construct an array by repeating A the number of times given by reps.\n",
      "    \n",
      "    If `reps` has length ``d``, the result will have dimension of\n",
      "    ``max(d, A.ndim)``.\n",
      "    \n",
      "    If ``A.ndim < d``, `A` is promoted to be d-dimensional by prepending new\n",
      "    axes. So a shape (3,) array is promoted to (1, 3) for 2-D replication,\n",
      "    or shape (1, 1, 3) for 3-D replication. If this is not the desired\n",
      "    behavior, promote `A` to d-dimensions manually before calling this\n",
      "    function.\n",
      "    \n",
      "    If ``A.ndim > d``, `reps` is promoted to `A`.ndim by pre-pending 1's to it.\n",
      "    Thus for an `A` of shape (2, 3, 4, 5), a `reps` of (2, 2) is treated as\n",
      "    (1, 1, 2, 2).\n",
      "    \n",
      "    Note : Although tile may be used for broadcasting, it is strongly\n",
      "    recommended to use numpy's broadcasting operations and functions.\n",
      "    \n",
      "    Parameters\n",
      "    ----------\n",
      "    A : array_like\n",
      "        The input array.\n",
      "    reps : array_like\n",
      "        The number of repetitions of `A` along each axis.\n",
      "    \n",
      "    Returns\n",
      "    -------\n",
      "    c : ndarray\n",
      "        The tiled output array.\n",
      "    \n",
      "    See Also\n",
      "    --------\n",
      "    repeat : Repeat elements of an array.\n",
      "    broadcast_to : Broadcast an array to a new shape\n",
      "    \n",
      "    Examples\n",
      "    --------\n",
      "    >>> a = np.array([0, 1, 2])\n",
      "    >>> np.tile(a, 2)\n",
      "    array([0, 1, 2, 0, 1, 2])\n",
      "    >>> np.tile(a, (2, 2))\n",
      "    array([[0, 1, 2, 0, 1, 2],\n",
      "           [0, 1, 2, 0, 1, 2]])\n",
      "    >>> np.tile(a, (2, 1, 2))\n",
      "    array([[[0, 1, 2, 0, 1, 2]],\n",
      "           [[0, 1, 2, 0, 1, 2]]])\n",
      "    \n",
      "    >>> b = np.array([[1, 2], [3, 4]])\n",
      "    >>> np.tile(b, 2)\n",
      "    array([[1, 2, 1, 2],\n",
      "           [3, 4, 3, 4]])\n",
      "    >>> np.tile(b, (2, 1))\n",
      "    array([[1, 2],\n",
      "           [3, 4],\n",
      "           [1, 2],\n",
      "           [3, 4]])\n",
      "    \n",
      "    >>> c = np.array([1,2,3,4])\n",
      "    >>> np.tile(c,(4,1))\n",
      "    array([[1, 2, 3, 4],\n",
      "           [1, 2, 3, 4],\n",
      "           [1, 2, 3, 4],\n",
      "           [1, 2, 3, 4]])\n",
      "\n"
     ]
    }
   ],
   "source": [
    "help(np.tile)"
   ]
  },
  {
   "cell_type": "code",
   "execution_count": 27,
   "metadata": {
    "collapsed": false
   },
   "outputs": [
    {
     "data": {
      "text/plain": [
       "array([[4, 3, 4, 3],\n",
       "       [2, 1, 2, 1],\n",
       "       [4, 3, 4, 3],\n",
       "       [2, 1, 2, 1]])"
      ]
     },
     "execution_count": 27,
     "metadata": {},
     "output_type": "execute_result"
    }
   ],
   "source": [
    "c = np.array([[4, 3],[2, 1]])\n",
    "np.tile(c, (2, 2))"
   ]
  },
  {
   "cell_type": "code",
   "execution_count": null,
   "metadata": {
    "collapsed": true
   },
   "outputs": [],
   "source": []
  }
 ],
 "metadata": {
  "kernelspec": {
   "display_name": "Python 3",
   "language": "python",
   "name": "python3"
  },
  "language_info": {
   "codemirror_mode": {
    "name": "ipython",
    "version": 3
   },
   "file_extension": ".py",
   "mimetype": "text/x-python",
   "name": "python",
   "nbconvert_exporter": "python",
   "pygments_lexer": "ipython3",
   "version": "3.5.2"
  }
 },
 "nbformat": 4,
 "nbformat_minor": 1
}
